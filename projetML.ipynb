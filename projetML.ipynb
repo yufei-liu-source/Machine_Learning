{
 "cells": [
  {
   "cell_type": "markdown",
   "id": "fluid-israeli",
   "metadata": {},
   "source": [
    "# Machine Learning & Application \n",
    "## 2021-2022\n",
    "# Projet Rubik's cube\n",
    "\n",
    "Le projet porte sur un problème d'apprentissage supervisé. Le problème fait parti des données du [challenge des données](https://challengedata.ens.fr/challenges/20) ENS et s'intitule \"Solve 2x2x2 Rubik's cube\" et est présenté par la société LumenAI. Une [vidéo](https://www.college-de-france.fr/video/stephane-mallat/2019) décrivant le problème se trouve sur le site du collège de France. \n",
    "\n",
    "Les autres challenges sont aussi très intéressants, mais nécessitent plus de connaissances en machine learning (par exemple de l'apprentissage sur des séries temporelles, sur des images, des sons, du texte, etc...). D'où le choix de ce challenge dont les données sont très proches de problèmes sur lesquels on a travaillé.\n",
    "\n",
    "La résolution d'un rubik's cube peut être vu comme un problème d'intelligence artificielle (par exemple en utilisant des techniques de recherches avec des heuristiques). On peut même étudier le graphe du jeu du point de vue de la théorie des graphes et découvrir qu'en fait il existe toujours un chemin relativement court à une solution.\n",
    "\n",
    "ex dans la litérature:\n",
    " * \"The Diameter of the Rubik's Cube Group Is Twenty\", *T. Rokicki, H. Kociemba, M. Davidson, and J. Dethridge*, SIAM Review, 2014, Vol. 56, No. 4 : pp. 645-670.\n",
    " * \"Solving Rubik’s Cube Using Graph Theory\", Khemani C., Doshi J., Duseja J., Shah K., Udmale S., Sambhe V. (2019) in: Verma N., Ghosh A. (eds) Computational Intelligence: Theories, Applications and Future Directions - Volume I. Advances in Intelligent Systems and Computing, vol 798. Springer, Singapore. \n",
    " \n",
    "Ici, on a une base de données qui contient la description de rubik's cubes ainsi que le nombre minimal de coups pour les résoudre. On ne sait pas comment les problèmes ont été générés (est-ce que cela entraine un biais dans les problèmes, est-ce que plusieurs problèmes similaires sont présents dans la base? (Ici par similaire, on pourrait peut être avoir deux problèmes qui apparaissent dans la base, mais en permuttant certaines couleurs, on aurait peut-être exactement le même problème!)). Cependant, on vous demande de constuire un modèle pour nous aider à prédire le nombre de coups minimal pour un problème donné. Ensuite, vous pourriez utiliser ce modèle dans un algorithme de recherche étudié en cours d'IA.\n",
    "\n",
    "On peut le voir comme un problème de regression où il faut deviner le nombre minimal de coups pour résoudre le rubik's cube, ou comme un problème de classification où la classe d'un état du rubik's cube est le nombre minimal de coups pour le résoudre (donc on pourrait avoir au plus 19 classes). Toutes les méthodes que l'on a vu en cours peuvent s'appliquer.\n",
    "\n",
    "## Les données et le site du challenge\n",
    "\n",
    "Le projet s'effectue en binôme. Vous devez ouvrir un compte pour le binôme sur le site du challenge, choisissez de participer seul (le binôme sera un seul participant au challenge), puis inscrivez-vous au challenge du cours *M1 MIAGE Dauphine - PSL - 2021-2022*.\n",
    "\n",
    "Vous aurez accès à trois ensembles: \n",
    " * `x_train` qui contient la description de 1.837.079 différents rubik's cubes. Chaque rubik's cube est représenté par 25 attributs (lisez la description sur le site du challenge).\n",
    " * `y_train` qui contient le nombre minimal de coups pour résoudre chacun des 1.837.079 différents rubik's cubes. \n",
    " Ces données sont vos données d'entrainement.\n",
    " * enfin `x_test` qui contient la description de 1.837.080 nouveaux rubik's cubes. Vous ne connaissez pas le nombre minimal pour chacun de ces problèmes. \n",
    " \n",
    "Pour participer aux challenges, il vous faudra uploader sur le site votre prédiction sur les rubik's cubes du fichier `x_test` et le site du challenge vous donnera un score. Pour ce score, le site utilise l'erreur moyenne absolue: pour les n=1.837.080 exemples du fichier test, on fait la moyenne entre le vrai nombre minimal de coups $y_i$ et votre prédiction $z_i$: \n",
    "$$ \\frac{\\sum_{i=1}^n |y_i-z_i|}{n}$$\n",
    "\n",
    "Malheureusement (pour vous), le site ne vous donnera pas plus d'information que votre score, vous ne pourrez pas savoir quelles sont vos bonnes prédictions et quelles sont vos erreurs. Pire, le site vous permettra d'uploader une prédiction que deux fois par jour!\n",
    "\n",
    "\n",
    "## Soumission et rappot\n",
    "\n",
    "Un des membres du binôme devra remplir le formulaire Forms de l'équipe Teams du cours (onglet General) pour enregistrer les membres du binôme et le login du binôme qui utilisé sur le site du challenge ENS. \n",
    "Avant le **jeudi 2 décembre à 12h** vous devez 1) avoir créé votre compte pour le binôme et inscrit le binôme sur le challenge du cours, et 2) rempli les informations sur le formulaire Forms.\n",
    "\n",
    "Vous pouvez faire le projet seul, mais vous serez évalué comme un binôme. Si vous tenez absolument à former un trinôme, contactez moi par email, mais sachez que dès lors, les attentes seront plus élevées.\n",
    "\n",
    "Le deadline pour le projet sera le **dimanche 20 décembre 23:59**\n",
    "Vous devrez à ce moment là avoir fait trois choses:\n",
    "* avoir rendu un rapport\n",
    "* avoir rendu un notebook jupyter ou collab contenant le code pour générer votre solution\n",
    "* avoir soumis une solution sur le site du challenge ENS.\n",
    "\n",
    "Le notebook et le rapport seront à soumettre sous myCourse.\n",
    "\n",
    "Le rapport est un document **pdf** et devra être un document structuré qui explique vos choix, explique votre solution et donne votre résultat. Ne présentez ni le cours, ni le contexte, seul votre travail est important. Le rapport est de **6** pages maximum au format A4 (sans utiliser une taille de police inférieure strictement à 12). Vous pouvez ajouter une annexe à ce rapport (au format pdf ou sous la forme d'un notebook jupyter), étant entendu que le lecteur n'est pas obligé de lire l'annexe. Votre mission est de proposer un modèle de prédiction pour ce problème, votre rapport doit justifier comment vous avez répondu (complètement ou pas) à cette mission (par exemple, vous pouvez décrire ce que vous avez essayé, ce qui a marché ou non, pourquoi vous avez essayé autre chose...). Une autre façon de décrire ce qu'on attend du rapport est la suivante: votre manageur a donné à plusieurs équipes la même tâche d'apprentissage supervisé. Vous devez lui présenter dans ce rapport des arguments qui justifient la qualité de votre approche et de vos résultats. Votre manageur connait le problème, mais n'est pas forcément un expert du domaine. A vous de le convaincre d'utiliser votre solution! (attention, si vous connaissez aussi les limitations de votre solution, il est bon de les exposer aussi!). \n",
    "\n",
    "L'évaluation portera sur la qualité de votre analyse, même si vos résultats sont peu concluant. Pour caricaturer, un modèle qui gagnerait la compétition sans pouvoir expliquer ce qu'il a fait n'aura pas une bonne note pour le projet du cours (mais bravo, il a gagné la compétition!). Autre caricature, un projet qui applique un seul algorithme et conclue que ça ne fonctionne pas bien n'aura pas non plus une bonne note.\n",
    "\n",
    "Une soutenance sera organisée lors de la première semaine de cours (après les examens). Elle permettra de compléter l'évaluation et de vous donner un retour sur votre travail.\n",
    " Cette soutenance ne demande aucune préparation de votre part. Elle durera une douzaine/quinzaine de minutes par groupe. La soutenance consistera en un échange au sujet de vos résultats et votre rapport. Si la soutenance fait apparaître qu’un des membres n’a pas beaucoup contribué, sa note pourra être revue à la baisse. Egalement, on pourra vous demander de montrer le code et de fournir les résultats que vous avez obtenu lors des exercices d’implémentation des TDs.\n",
    "\n",
    "Ce projet compte pour 40% de la note de l’UE. Il est donc souhaitable que la note corresponde au travail de votre groupe, et non aux conseils d’autres groupes, d’autres étudiants ou d’internet. Si vous utilisez des sources (articles de recherche, posts sur internet, etc...), vous devez mentionnez vos sources dans le rapport (sinon, cela s'appelle du plagiat, et cela peut être puni par un conseil de discipline).\n",
    "\n",
    "Les quelques lignes de code ci-dessous lisent simplement les fichiers sources et affiche la taille des données."
   ]
  },
  {
   "cell_type": "markdown",
   "id": "c070df0e",
   "metadata": {},
   "source": [
    "Importer les donnees"
   ]
  },
  {
   "cell_type": "code",
   "execution_count": 1,
   "id": "acknowledged-battery",
   "metadata": {},
   "outputs": [
    {
     "name": "stdout",
     "output_type": "stream",
     "text": [
      "taille des données:\n",
      "X_complet: (1837079, 25)\n",
      "Y_complet: (1837079, 2)\n",
      "test: (1837080, 25)\n"
     ]
    }
   ],
   "source": [
    "import pandas as pd\n",
    "import numpy as np\n",
    "import matplotlib.pyplot as plt\n",
    "\n",
    "df = pd.read_csv(\"train_input.csv\")\n",
    "Xcomplet = df.to_numpy()\n",
    "df = pd.read_csv(\"train_output.csv\")\n",
    "ycomplet = df.to_numpy()\n",
    "print(\"taille des données:\")\n",
    "print(\"X_complet:\", Xcomplet.shape)\n",
    "print(\"Y_complet:\", ycomplet.shape)\n",
    "\n",
    "df = pd.read_csv(\"test_input.csv\")\n",
    "Xtest = df.to_numpy()\n",
    "print(\"test:\", Xtest.shape)"
   ]
  },
  {
   "cell_type": "code",
   "execution_count": 2,
   "id": "f6c70645",
   "metadata": {},
   "outputs": [
    {
     "name": "stdout",
     "output_type": "stream",
     "text": [
      "[1 2 3 4 5 6] : Attribut[ 0 ] | Repartition = [0.19051 0.19016 0.19029 0.14319 0.14304 0.14281]\n",
      "[1 2 3 4 5 6] : Attribut[ 1 ] | Repartition = [0.19053 0.19096 0.19022 0.14255 0.14265 0.14309]\n",
      "[1 2 3 4 5 6] : Attribut[ 2 ] | Repartition = [0.19079 0.19061 0.19013 0.14255 0.14278 0.14314]\n",
      "[1 2 3 4 5 6] : Attribut[ 3 ] | Repartition = [0.19034 0.19075 0.19066 0.14285 0.14288 0.14251]\n",
      "[1 2 3 4 5 6] : Attribut[ 4 ] | Repartition = [0.19043 0.19026 0.19046 0.14319 0.14288 0.14279]\n",
      "[1 2 3 4 5 6] : Attribut[ 5 ] | Repartition = [0.1905  0.19077 0.19052 0.14288 0.14285 0.14248]\n",
      "[6] : Attribut[ 6 ] | Repartition = [1.]\n",
      "[1 2 3 4 5 6] : Attribut[ 7 ] | Repartition = [0.19059 0.19041 0.19027 0.1426  0.14296 0.14317]\n",
      "[1 2 3 4 5 6] : Attribut[ 8 ] | Repartition = [0.19074 0.19028 0.19058 0.14292 0.14281 0.14267]\n",
      "[1 2 3 4 5 6] : Attribut[ 9 ] | Repartition = [0.19039 0.1902  0.19091 0.14281 0.14288 0.1428 ]\n",
      "[1 2 3 4 5 6] : Attribut[ 10 ] | Repartition = [0.19033 0.19033 0.19055 0.14299 0.14292 0.14288]\n",
      "[1 2 3 4 5 6] : Attribut[ 11 ] | Repartition = [0.19012 0.19057 0.1905  0.14304 0.1427  0.14308]\n",
      "[1 2 3 4 5 6] : Attribut[ 12 ] | Repartition = [0.19097 0.1906  0.19037 0.14275 0.14283 0.14247]\n",
      "[1 2 3 4 5 6] : Attribut[ 13 ] | Repartition = [0.19043 0.19022 0.1905  0.14264 0.14305 0.14317]\n",
      "[4] : Attribut[ 14 ] | Repartition = [1.]\n",
      "[1 2 3 4 5 6] : Attribut[ 15 ] | Repartition = [0.1902  0.19077 0.19045 0.14299 0.14281 0.14278]\n",
      "[1 2 3 4 5 6] : Attribut[ 16 ] | Repartition = [0.19051 0.19045 0.19043 0.143   0.14285 0.14275]\n",
      "[1 2 3 4 5 6] : Attribut[ 17 ] | Repartition = [0.19065 0.19038 0.19048 0.1431  0.14286 0.14253]\n",
      "[1 2 3 4 5 6] : Attribut[ 18 ] | Repartition = [0.19015 0.19075 0.19045 0.14277 0.14317 0.14271]\n",
      "[1 2 3 4 5 6] : Attribut[ 19 ] | Repartition = [0.19062 0.19009 0.19057 0.14269 0.1427  0.14333]\n",
      "[1 2 3 4 5 6] : Attribut[ 20 ] | Repartition = [0.19054 0.19031 0.19066 0.14289 0.1428  0.14281]\n",
      "[1 2 3 4 5 6] : Attribut[ 21 ] | Repartition = [0.19029 0.19047 0.19042 0.14303 0.14267 0.14313]\n",
      "[5] : Attribut[ 22 ] | Repartition = [1.]\n",
      "[1 2 3 4 5 6] : Attribut[ 23 ] | Repartition = [0.19038 0.19066 0.19059 0.14257 0.14292 0.14288]\n"
     ]
    }
   ],
   "source": [
    "X = Xcomplet[:, 1:]\n",
    "\n",
    "for i in range(X[0].size):\n",
    "    attributs, c = np.unique(X.T[i], return_counts= True)\n",
    "    distribution = np.around( c / len(X), decimals=5)\n",
    "    print(attributs, \": Attribut[\" , i ,\"] | Repartition =\" , distribution)"
   ]
  },
  {
   "cell_type": "markdown",
   "id": "4f558ddf",
   "metadata": {},
   "source": [
    "Pretreatment de donnnee"
   ]
  },
  {
   "cell_type": "code",
   "execution_count": 3,
   "id": "c5ac09d4",
   "metadata": {},
   "outputs": [
    {
     "name": "stdout",
     "output_type": "stream",
     "text": [
      "taille des données:\n",
      "X: (1837079, 21)\n",
      "Y: (1837079, 1)\n",
      "1837079\n",
      "Nom des classes:  [ 1  2  3  4  5  6  7  8  9 10 11 12 13 14]\n",
      "Repartition des classes = [     3     13     60    267   1128   4485  16529  57074 180254 465294\n",
      " 675426 391268  45140    138]\n",
      "Il y a  38578659  observations avec  21  attributs\n"
     ]
    }
   ],
   "source": [
    "\n",
    "X = np.delete(Xcomplet, [0,7,15,23], axis=1)\n",
    "y = np.delete(ycomplet, 0, axis=1)\n",
    "\n",
    "X1 = X[0:1000,:]\n",
    "y1 = y[0:1000,:]\n",
    "\n",
    "print(\"taille des données:\")\n",
    "print(\"X:\", X.shape)\n",
    "print(\"Y:\", y.shape)\n",
    "print(len(X))\n",
    "\n",
    "nb_classe, reparti_class = np.unique(y, return_counts= True)\n",
    "print(\"Nom des classes: \", nb_classe)\n",
    "print(\"Repartition des classes =\", reparti_class)\n",
    "#print(\"Nombre d'observations dans chacune des classes:\", np.bincount(y))\n",
    "print(\"Il y a \", X.size, \" observations avec \", X[0].size, \" attributs\")"
   ]
  },
  {
   "cell_type": "markdown",
   "id": "af7ed938",
   "metadata": {},
   "source": [
    "Repartition de classe"
   ]
  },
  {
   "cell_type": "code",
   "execution_count": 4,
   "id": "2ae6a8cb",
   "metadata": {},
   "outputs": [
    {
     "data": {
      "text/plain": [
       "Text(0.5, 0, 'Classe')"
      ]
     },
     "execution_count": 4,
     "metadata": {},
     "output_type": "execute_result"
    },
    {
     "data": {
      "image/png": "[encoded data removed]",
      "text/plain": [
       "<Figure size 432x288 with 1 Axes>"
      ]
     },
     "metadata": {
      "needs_background": "light"
     },
     "output_type": "display_data"
    }
   ],
   "source": [
    "plt.hist(y,bins=nb_classe,edgecolor ='black')\n",
    "plt.title('Répartition des classes')\n",
    "plt.ylabel('Nombre')\n",
    "plt.xlabel('Classe')"
   ]
  },
  {
   "cell_type": "markdown",
   "id": "d0809e4b",
   "metadata": {},
   "source": [
    "Normalize les data entree : de categorie a vecteur 6*1"
   ]
  },
  {
   "cell_type": "code",
   "execution_count": 5,
   "id": "a032aeab",
   "metadata": {},
   "outputs": [],
   "source": [
    "temp1 = np.ones(21)\n",
    "temp2 = temp1 * 2\n",
    "temp3 = temp1 * 3\n",
    "temp4 = temp1 * 4\n",
    "temp5 = temp1 * 5\n",
    "temp6 = temp1 * 6\n",
    "\n",
    "transform = []\n",
    "transform.append(temp1)\n",
    "transform.append(temp2)\n",
    "transform.append(temp3)\n",
    "transform.append(temp4)\n",
    "transform.append(temp5)\n",
    "transform.append(temp6)"
   ]
  },
  {
   "cell_type": "code",
   "execution_count": 6,
   "id": "2496f192",
   "metadata": {},
   "outputs": [
    {
     "name": "stdout",
     "output_type": "stream",
     "text": [
      "[0. 0. 0. 1. 0. 0. 1. 0. 0. 0. 0. 0. 1. 0. 0. 0. 0. 0. 1. 0. 0. 0. 0. 0.\n",
      " 0. 0. 0. 0. 0. 1. 0. 1. 0. 0. 0. 0. 0. 0. 0. 0. 0. 1. 0. 0. 0. 0. 1. 0.\n",
      " 0. 0. 0. 1. 0. 0. 0. 1. 0. 0. 0. 0. 0. 1. 0. 0. 0. 0. 0. 0. 0. 0. 1. 0.\n",
      " 0. 0. 0. 0. 0. 1. 0. 0. 0. 1. 0. 0. 1. 0. 0. 0. 0. 0. 0. 0. 1. 0. 0. 0.\n",
      " 0. 0. 1. 0. 0. 0. 0. 0. 0. 0. 1. 0. 0. 1. 0. 0. 0. 0. 0. 0. 1. 0. 0. 0.\n",
      " 0. 0. 1. 0. 0. 0.]\n",
      "(1837079, 126)\n",
      "(1837079, 1)\n"
     ]
    }
   ],
   "source": [
    "from sklearn.preprocessing import  OneHotEncoder\n",
    "enc = OneHotEncoder()\n",
    "enc.fit(transform)\n",
    "ans = enc.transform(X).toarray()\n",
    "# premier valeur\n",
    "print(ans[0,:])\n",
    "print(ans.shape)\n",
    "print(y.shape)"
   ]
  },
  {
   "cell_type": "code",
   "execution_count": 7,
   "id": "e398f533",
   "metadata": {},
   "outputs": [
    {
     "name": "stdout",
     "output_type": "stream",
     "text": [
      "(1000, 126)\n",
      "[0. 0. 0. 0. 0. 1. 0. 0. 0. 0. 1. 0. 0. 1. 0. 0. 0. 0. 1. 0. 0. 0. 0. 0.\n",
      " 0. 1. 0. 0. 0. 0. 0. 1. 0. 0. 0. 0. 0. 0. 1. 0. 0. 0. 0. 0. 0. 1. 0. 0.\n",
      " 0. 0. 0. 1. 0. 0. 1. 0. 0. 0. 0. 0. 0. 0. 0. 1. 0. 0. 0. 0. 0. 0. 0. 1.\n",
      " 0. 0. 0. 0. 0. 1. 1. 0. 0. 0. 0. 0. 0. 0. 1. 0. 0. 0. 1. 0. 0. 0. 0. 0.\n",
      " 0. 0. 0. 0. 1. 0. 0. 0. 1. 0. 0. 0. 0. 0. 0. 0. 1. 0. 0. 0. 1. 0. 0. 0.\n",
      " 0. 1. 0. 0. 0. 0.]\n"
     ]
    }
   ],
   "source": [
    "Xtest_part_OHE = enc.transform(X1).toarray()\n",
    "print(Xtest_part_OHE.shape)\n",
    "print(Xtest_part_OHE[1,:])"
   ]
  },
  {
   "cell_type": "code",
   "execution_count": 21,
   "id": "5723419c",
   "metadata": {},
   "outputs": [
    {
     "name": "stdout",
     "output_type": "stream",
     "text": [
      "(1469663, 126)\n",
      "(1469663, 1)\n",
      "(367416, 126)\n",
      "(367416, 1)\n"
     ]
    }
   ],
   "source": [
    "from sklearn.model_selection import train_test_split\n",
    "\n",
    "X_train, X_test, y_train, y_test = train_test_split(ans, y, test_size=0.2, random_state=12)\n",
    "\n",
    "print(X_train.shape)\n",
    "print(y_train.shape)\n",
    "print(X_test.shape)\n",
    "print(y_test.shape)"
   ]
  },
  {
   "cell_type": "code",
   "execution_count": null,
   "id": "3feef07c",
   "metadata": {},
   "outputs": [],
   "source": [
    "from imblearn.over_sampling import SMOTE\n",
    "sm = SMOTE(random_state=12,k_neighbors=1)\n",
    "x_train_res, y_train_res = sm.fit_resample(X_train, y_train)"
   ]
  },
  {
   "cell_type": "code",
   "execution_count": 12,
   "id": "0c125636",
   "metadata": {},
   "outputs": [
    {
     "name": "stdout",
     "output_type": "stream",
     "text": [
      "(1653371, 126)\n",
      "(1653371, 1)\n",
      "(183708, 126)\n",
      "(183708, 1)\n"
     ]
    }
   ],
   "source": [
    "# def split(X, y, pourcentage):\n",
    "#     nb_donnee = len(X)\n",
    "    \n",
    "#     ordre = np.zeros(len(X))\n",
    "#     for i in range(len(X)):\n",
    "#         ordre[i] = i\n",
    "        \n",
    "#     np.random.shuffle(ordre)\n",
    "    \n",
    "#     nb_train = int(nb_donnee * pourcentage)\n",
    "\n",
    "#     X_after_random = X\n",
    "#     y_after_random = y\n",
    "\n",
    "#     for i in range(len(X)):\n",
    "#         for j in range(len(X[0])):\n",
    "#             X_after_random[i,j] = X[int(ordre[i]),j]\n",
    "#         y_after_random[i] = y[int(ordre[i])]\n",
    "\n",
    "#     trainX = X_after_random[0:nb_train,:]\n",
    "#     trainy = y_after_random[0:nb_train]\n",
    "    \n",
    "#     testX = X_after_random[nb_train:nb_donnee,:]\n",
    "#     testy = y_after_random[nb_train:nb_donnee]\n",
    "    \n",
    "#     return trainX,testX,trainy,testy\n",
    "\n",
    "# X_train, X_test,y_train, y_test = split(ans, y, 0.9)\n",
    "\n",
    "\n",
    "# print(X_train.shape)\n",
    "# print(y_train.shape)\n",
    "# print(X_test.shape)\n",
    "# print(y_test.shape)\n",
    "\n"
   ]
  },
  {
   "cell_type": "markdown",
   "id": "e0f92d21",
   "metadata": {},
   "source": [
    "Transformation de donnees Xtest"
   ]
  },
  {
   "cell_type": "markdown",
   "id": "f8d46e63",
   "metadata": {},
   "source": [
    "K plus poche"
   ]
  },
  {
   "cell_type": "code",
   "execution_count": null,
   "id": "facial-grounds",
   "metadata": {},
   "outputs": [],
   "source": [
    "from sklearn.neighbors import KNeighborsClassifier\n",
    "\n",
    "kppv = KNeighborsClassifier(n_neighbors = 1,  metric='euclidean')\n",
    "kppv.fit(X_train, y_train.ravel())\n",
    "\n",
    "print('precision k-NN score for test set: %.3f' % kppv.score(X_test[0:3000,:], y_test[0:3000,:]))\n",
    "y_true, y_pred = y_test, kppv.predict(X_test)"
   ]
  },
  {
   "cell_type": "code",
   "execution_count": 9,
   "id": "392413b8",
   "metadata": {},
   "outputs": [
    {
     "data": {
      "text/plain": [
       "Text(0, 0.5, 'Mean error absolute')"
      ]
     },
     "execution_count": 9,
     "metadata": {},
     "output_type": "execute_result"
    },
    {
     "data": {
      "image/png": "[encoded data removed]",
      "text/plain": [
       "<Figure size 432x288 with 1 Axes>"
      ]
     },
     "metadata": {
      "needs_background": "light"
     },
     "output_type": "display_data"
    }
   ],
   "source": [
    "from sklearn.model_selection import train_test_split\n",
    "\n",
    "X_train, X_test, y_train, y_test = train_test_split(X1, y1, test_size=0.1,random_state=42)\n",
    "##KNN\n",
    "from sklearn.neighbors import KNeighborsClassifier\n",
    "from sklearn import metrics\n",
    "k_range=range(1,9)\n",
    "scores_list =[]\n",
    "for k in k_range:\n",
    "    knn = KNeighborsClassifier(n_neighbors=k)\n",
    "    knn.fit(Xtest_part_OHE, y1.ravel())\n",
    "    y_pred = knn.predict(Xtest_part_OHE)\n",
    "    scores_list.append(metrics.mean_absolute_error(y1,y_pred))\n",
    "    \n",
    "import matplotlib.pyplot as plt\n",
    "plt.plot(k_range,scores_list)\n",
    "plt.xlabel(\"Value of k for KNN\")\n",
    "plt.ylabel(\"Mean error absolute\")"
   ]
  },
  {
   "cell_type": "markdown",
   "id": "226e4fd4",
   "metadata": {},
   "source": [
    "Arbre de decision"
   ]
  },
  {
   "cell_type": "code",
   "execution_count": 22,
   "id": "0511d393",
   "metadata": {},
   "outputs": [
    {
     "name": "stdout",
     "output_type": "stream",
     "text": [
      "precision arbre decision score for test set: 0.792\n"
     ]
    }
   ],
   "source": [
    "from sklearn.tree import DecisionTreeClassifier\n",
    "\n",
    "dtree = DecisionTreeClassifier(criterion='gini', class_weight='balanced')\n",
    "dtree.fit(X_train, y_train.ravel())\n",
    "\n",
    "print('precision arbre decision score for test set: %.3f' % dtree.score(X_test, y_test))"
   ]
  },
  {
   "cell_type": "code",
   "execution_count": null,
   "id": "842c155a",
   "metadata": {},
   "outputs": [],
   "source": [
    "from sklearn.ensemble import RandomForestClassifier\n",
    "\n",
    "rforest = RandomForestClassifier(n_estimators=20, random_state=0)\n",
    "rforest.fit(X_train, y_train.ravel())\n",
    "print('precision random forest score for test set: %.3f' % rforest.score(X_test, y_test))"
   ]
  },
  {
   "cell_type": "markdown",
   "id": "d66ee378",
   "metadata": {},
   "source": [
    "Reseau de neurones"
   ]
  },
  {
   "cell_type": "code",
   "execution_count": 18,
   "id": "6277d3ad",
   "metadata": {},
   "outputs": [
    {
     "name": "stdout",
     "output_type": "stream",
     "text": [
      "Precision MLP score for test set : 0.367\n"
     ]
    }
   ],
   "source": [
    "from sklearn.neural_network import MLPClassifier\n",
    "\n",
    "ann = MLPClassifier(hidden_layer_sizes=21, activation='tanh', solver='adam')\n",
    "ann.fit(X_train,y_train.ravel())\n",
    "print('Precision MLP score for test set : %.3f' % ann.score(X_test,y_test))\n"
   ]
  },
  {
   "cell_type": "code",
   "execution_count": null,
   "id": "8dc88147",
   "metadata": {},
   "outputs": [],
   "source": [
    "from sklearn.neural_network import MLPClassifier\n",
    "from sklearn import metrics\n",
    "from sklearn.model_selection import train_test_split\n",
    "\n",
    "X_train, X_test, y_train, y_test = train_test_split(Xtest_part_OHE, y1, test_size=0.1,random_state=42)\n",
    "hidden_range=range(1, 50)\n",
    "scores_list =[]\n",
    "for k in hidden_range:\n",
    "    mlp = MLPClassifier(hidden_layer_sizes=k, activation='tanh', solver='adam')\n",
    "    mlp.fit(X_train, y_train.ravel())\n",
    "    y_pred = mlp.predict(X_test)\n",
    "    scores_list.append(metrics.mean_absolute_error(y_test,y_pred))\n",
    "    \n",
    "import matplotlib.pyplot as plt\n",
    "plt.plot(hidden_range,scores_list)\n",
    "plt.xlabel(\"Valeur of neurone in one hidden layer\")\n",
    "plt.ylabel(\"Mean error absolute\")"
   ]
  },
  {
   "cell_type": "markdown",
   "id": "88e4664d",
   "metadata": {},
   "source": [
    "Simulation de Challenge"
   ]
  },
  {
   "cell_type": "code",
   "execution_count": 16,
   "id": "e179236c",
   "metadata": {},
   "outputs": [],
   "source": [
    "Xtest_input = np.delete(Xtest, [0,7,15,23], axis=1)\n",
    "ans2 = enc.transform(Xtest_input).toarray()"
   ]
  },
  {
   "cell_type": "code",
   "execution_count": null,
   "id": "487c8305",
   "metadata": {},
   "outputs": [],
   "source": [
    "#calculer le moyen absolute d'erreur\n",
    "def score (input_y,model_y):\n",
    "    nb_data_input = len(input_y)\n",
    "    error_sum = 0\n",
    "    for i in range(nb_data_input):\n",
    "        error_sum += np.absolute(model_y[i] - input_y[i])\n",
    "    \n",
    "    mean_absolu_error = error_sum/nb_data_input\n",
    "    return mean_absolu_error"
   ]
  },
  {
   "cell_type": "code",
   "execution_count": 19,
   "id": "e8f4f387",
   "metadata": {},
   "outputs": [
    {
     "name": "stdout",
     "output_type": "stream",
     "text": [
      "0.8517048794826573\n",
      "Nom des classes:  [ 4  5  6  8 10 11]\n",
      "Repartition des classes = [     1      3     19      5   4252 179428]\n"
     ]
    }
   ],
   "source": [
    "from sklearn import metrics\n",
    "input_y = ann.predict(X_test)\n",
    "print(metrics.mean_absolute_error(input_y, y_test))\n",
    "\n",
    "nb_classe, reparti_class = np.unique(input_y, return_counts= True)\n",
    "print(\"Nom des classes: \", nb_classe)\n",
    "print(\"Repartition des classes =\", reparti_class)"
   ]
  },
  {
   "cell_type": "code",
   "execution_count": 23,
   "id": "7d43cbe4",
   "metadata": {},
   "outputs": [
    {
     "name": "stdout",
     "output_type": "stream",
     "text": [
      "0.3390325952054347\n"
     ]
    }
   ],
   "source": [
    "input_y = dtree.predict(X_test)\n",
    "print(metrics.mean_absolute_error(input_y, y_test))"
   ]
  },
  {
   "cell_type": "code",
   "execution_count": null,
   "id": "580ae085",
   "metadata": {},
   "outputs": [],
   "source": [
    "y_pred = rforest.predict(X_test)\n",
    "print(metrics.mean_absolute_error(y_test, y_pred))"
   ]
  },
  {
   "cell_type": "markdown",
   "id": "5599655c",
   "metadata": {},
   "source": [
    "Output file csv"
   ]
  },
  {
   "cell_type": "code",
   "execution_count": 17,
   "id": "d7f72111",
   "metadata": {},
   "outputs": [],
   "source": [
    "# output decision tree\n",
    "y_output = dtree.predict(ans2)\n",
    "df = pd.DataFrame(({'ID':Xtest[:,0], 'distance':y_output}))\n",
    "df.to_csv('C:\\\\Users\\liuyu\\Desktop\\ytest_dtree.csv', index=False, header=True)"
   ]
  },
  {
   "cell_type": "code",
   "execution_count": null,
   "id": "364f4a45",
   "metadata": {},
   "outputs": [],
   "source": [
    "# output neural-network\n",
    "y_output = ann.predict(ans2)\n",
    "nb_classe, reparti_class = np.unique(y_output, return_counts= True)\n",
    "print(\"Nom des classes: \", nb_classe)\n",
    "print(\"Repartition des classes =\", reparti_class)\n",
    "df = pd.DataFrame(({'ID':Xtest[:,0], 'distance':y_output}))\n",
    "df.to_csv('C:\\\\Users\\liuyu\\Desktop\\ytest_ann.csv', index=False, header=True)"
   ]
  }
 ],
 "metadata": {
  "kernelspec": {
   "display_name": "Python 3",
   "language": "python",
   "name": "python3"
  },
  "language_info": {
   "codemirror_mode": {
    "name": "ipython",
    "version": 3
   },
   "file_extension": ".py",
   "mimetype": "text/x-python",
   "name": "python",
   "nbconvert_exporter": "python",
   "pygments_lexer": "ipython3",
   "version": "3.9.7"
  }
 },
 "nbformat": 4,
 "nbformat_minor": 5
}
